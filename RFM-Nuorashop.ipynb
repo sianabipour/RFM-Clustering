{
 "cells": [
  {
   "cell_type": "code",
   "execution_count": 1,
   "id": "8e05e165-2d12-4035-bb7b-6d31ed20a4a8",
   "metadata": {},
   "outputs": [],
   "source": [
    "import pandas as pd\n",
    "import numpy as np\n",
    "import seaborn as sns\n",
    "from datetime import datetime \n",
    "from sklearn.cluster import KMeans ,DBSCAN\n",
    "from sklearn.metrics import silhouette_score\n",
    "from sklearn import preprocessing\n",
    "import json\n",
    "NOW = datetime.now()"
   ]
  },
  {
   "cell_type": "code",
   "execution_count": 2,
   "id": "570bb66b-99da-4782-a8b1-d43420dde4c2",
   "metadata": {},
   "outputs": [],
   "source": [
    "with open(\"data/sample.json\",\"r\",encoding = \"utf-8\") as f: \n",
    "    data = json.load(f)\n",
    "\n",
    "data = [{'pk':a['pk'],\n",
    "         'customer_ID':str(int(a['fields']['phone'])),\n",
    "         'price':int(a['fields']['price']),\n",
    "         'date':datetime.strptime(a['fields']['date'][:10],\"%Y-%m-%d\")} \n",
    "        for a in data if a[\"fields\"][\"order_condition\"] == \"4\"\n",
    "       ]"
   ]
  },
  {
   "cell_type": "code",
   "execution_count": 3,
   "id": "8675a621-1761-4473-989d-445df4b2515f",
   "metadata": {},
   "outputs": [],
   "source": [
    "for index , d in enumerate(data):\n",
    "    if d[\"customer_ID\"][0:2] == \"98\":\n",
    "        data[index][\"customer_ID\"] = d[\"customer_ID\"][2:]\n",
    "    if not len(d[\"customer_ID\"]) == 10:\n",
    "        data.pop(index)"
   ]
  },
  {
   "cell_type": "code",
   "execution_count": 4,
   "id": "444a42e1-b4df-4719-b5c0-e7a5c5fcbf42",
   "metadata": {},
   "outputs": [
    {
     "data": {
      "text/html": [
       "<div>\n",
       "<style scoped>\n",
       "    .dataframe tbody tr th:only-of-type {\n",
       "        vertical-align: middle;\n",
       "    }\n",
       "\n",
       "    .dataframe tbody tr th {\n",
       "        vertical-align: top;\n",
       "    }\n",
       "\n",
       "    .dataframe thead th {\n",
       "        text-align: right;\n",
       "    }\n",
       "</style>\n",
       "<table border=\"1\" class=\"dataframe\">\n",
       "  <thead>\n",
       "    <tr style=\"text-align: right;\">\n",
       "      <th></th>\n",
       "      <th>pk</th>\n",
       "      <th>customer_ID</th>\n",
       "      <th>price</th>\n",
       "      <th>date</th>\n",
       "    </tr>\n",
       "  </thead>\n",
       "  <tbody>\n",
       "    <tr>\n",
       "      <th>0</th>\n",
       "      <td>0</td>\n",
       "      <td>9127734220</td>\n",
       "      <td>6541890</td>\n",
       "      <td>2024-02-14</td>\n",
       "    </tr>\n",
       "    <tr>\n",
       "      <th>1</th>\n",
       "      <td>1</td>\n",
       "      <td>9614810601</td>\n",
       "      <td>4333681</td>\n",
       "      <td>2022-01-02</td>\n",
       "    </tr>\n",
       "    <tr>\n",
       "      <th>2</th>\n",
       "      <td>2</td>\n",
       "      <td>9556693635</td>\n",
       "      <td>16104248</td>\n",
       "      <td>2022-12-27</td>\n",
       "    </tr>\n",
       "    <tr>\n",
       "      <th>3</th>\n",
       "      <td>3</td>\n",
       "      <td>9031807567</td>\n",
       "      <td>12560273</td>\n",
       "      <td>2022-04-13</td>\n",
       "    </tr>\n",
       "    <tr>\n",
       "      <th>4</th>\n",
       "      <td>4</td>\n",
       "      <td>9031807567</td>\n",
       "      <td>6846358</td>\n",
       "      <td>2022-05-23</td>\n",
       "    </tr>\n",
       "  </tbody>\n",
       "</table>\n",
       "</div>"
      ],
      "text/plain": [
       "   pk customer_ID     price       date\n",
       "0   0  9127734220   6541890 2024-02-14\n",
       "1   1  9614810601   4333681 2022-01-02\n",
       "2   2  9556693635  16104248 2022-12-27\n",
       "3   3  9031807567  12560273 2022-04-13\n",
       "4   4  9031807567   6846358 2022-05-23"
      ]
     },
     "execution_count": 4,
     "metadata": {},
     "output_type": "execute_result"
    }
   ],
   "source": [
    "df = pd.DataFrame(data)\n",
    "df.head()"
   ]
  },
  {
   "cell_type": "markdown",
   "id": "45025afc-16b0-4a49-a2cb-eb3c62f9e9ea",
   "metadata": {},
   "source": [
    "# Recency Table"
   ]
  },
  {
   "cell_type": "code",
   "execution_count": 5,
   "id": "183f8fa7-7104-4e89-ad14-04434205bd4b",
   "metadata": {},
   "outputs": [],
   "source": [
    "df_recency = df.groupby(['customer_ID'],as_index=False)['date'].max()\n",
    "df_recency.columns = ['customer_ID','Last_Purchase_Date']\n",
    "df_recency['Recency'] = df_recency.Last_Purchase_Date.apply(lambda x:(NOW - x).days)\n",
    "df_recency.drop(columns=['Last_Purchase_Date'],inplace=True)"
   ]
  },
  {
   "cell_type": "code",
   "execution_count": 6,
   "id": "d1f69b86-9c17-4c86-a50f-bab91d9e85b7",
   "metadata": {},
   "outputs": [
    {
     "data": {
      "text/html": [
       "<div>\n",
       "<style scoped>\n",
       "    .dataframe tbody tr th:only-of-type {\n",
       "        vertical-align: middle;\n",
       "    }\n",
       "\n",
       "    .dataframe tbody tr th {\n",
       "        vertical-align: top;\n",
       "    }\n",
       "\n",
       "    .dataframe thead th {\n",
       "        text-align: right;\n",
       "    }\n",
       "</style>\n",
       "<table border=\"1\" class=\"dataframe\">\n",
       "  <thead>\n",
       "    <tr style=\"text-align: right;\">\n",
       "      <th></th>\n",
       "      <th>customer_ID</th>\n",
       "      <th>Recency</th>\n",
       "    </tr>\n",
       "  </thead>\n",
       "  <tbody>\n",
       "    <tr>\n",
       "      <th>0</th>\n",
       "      <td>9000641603</td>\n",
       "      <td>452</td>\n",
       "    </tr>\n",
       "    <tr>\n",
       "      <th>1</th>\n",
       "      <td>9001201270</td>\n",
       "      <td>414</td>\n",
       "    </tr>\n",
       "    <tr>\n",
       "      <th>2</th>\n",
       "      <td>9001314396</td>\n",
       "      <td>389</td>\n",
       "    </tr>\n",
       "    <tr>\n",
       "      <th>3</th>\n",
       "      <td>9001781541</td>\n",
       "      <td>287</td>\n",
       "    </tr>\n",
       "    <tr>\n",
       "      <th>4</th>\n",
       "      <td>9001960288</td>\n",
       "      <td>139</td>\n",
       "    </tr>\n",
       "  </tbody>\n",
       "</table>\n",
       "</div>"
      ],
      "text/plain": [
       "  customer_ID  Recency\n",
       "0  9000641603      452\n",
       "1  9001201270      414\n",
       "2  9001314396      389\n",
       "3  9001781541      287\n",
       "4  9001960288      139"
      ]
     },
     "execution_count": 6,
     "metadata": {},
     "output_type": "execute_result"
    }
   ],
   "source": [
    "df_recency.head()"
   ]
  },
  {
   "cell_type": "markdown",
   "id": "ad943537-0ad3-4c5c-81b3-303ec9ed648e",
   "metadata": {},
   "source": [
    "# FM Table"
   ]
  },
  {
   "cell_type": "code",
   "execution_count": 7,
   "id": "6d10ef67-2a4a-48d1-8386-c06b31b0249f",
   "metadata": {},
   "outputs": [],
   "source": [
    "FM_Table = df.groupby('customer_ID').agg({'pk': lambda x:len(x),'price': lambda x:x.sum()})\n",
    "FM_Table.rename(columns = {'pk' :'Frequency','price':'Monetary'},inplace= True) "
   ]
  },
  {
   "cell_type": "code",
   "execution_count": 8,
   "id": "b119f203-17cf-4724-8ddc-ed606ee531ec",
   "metadata": {},
   "outputs": [
    {
     "data": {
      "text/html": [
       "<div>\n",
       "<style scoped>\n",
       "    .dataframe tbody tr th:only-of-type {\n",
       "        vertical-align: middle;\n",
       "    }\n",
       "\n",
       "    .dataframe tbody tr th {\n",
       "        vertical-align: top;\n",
       "    }\n",
       "\n",
       "    .dataframe thead th {\n",
       "        text-align: right;\n",
       "    }\n",
       "</style>\n",
       "<table border=\"1\" class=\"dataframe\">\n",
       "  <thead>\n",
       "    <tr style=\"text-align: right;\">\n",
       "      <th></th>\n",
       "      <th>Frequency</th>\n",
       "      <th>Monetary</th>\n",
       "    </tr>\n",
       "    <tr>\n",
       "      <th>customer_ID</th>\n",
       "      <th></th>\n",
       "      <th></th>\n",
       "    </tr>\n",
       "  </thead>\n",
       "  <tbody>\n",
       "    <tr>\n",
       "      <th>9000641603</th>\n",
       "      <td>1</td>\n",
       "      <td>17020876</td>\n",
       "    </tr>\n",
       "    <tr>\n",
       "      <th>9001201270</th>\n",
       "      <td>1</td>\n",
       "      <td>14520670</td>\n",
       "    </tr>\n",
       "    <tr>\n",
       "      <th>9001314396</th>\n",
       "      <td>1</td>\n",
       "      <td>9419368</td>\n",
       "    </tr>\n",
       "    <tr>\n",
       "      <th>9001781541</th>\n",
       "      <td>2</td>\n",
       "      <td>27260006</td>\n",
       "    </tr>\n",
       "    <tr>\n",
       "      <th>9001960288</th>\n",
       "      <td>2</td>\n",
       "      <td>20521137</td>\n",
       "    </tr>\n",
       "  </tbody>\n",
       "</table>\n",
       "</div>"
      ],
      "text/plain": [
       "             Frequency  Monetary\n",
       "customer_ID                     \n",
       "9000641603           1  17020876\n",
       "9001201270           1  14520670\n",
       "9001314396           1   9419368\n",
       "9001781541           2  27260006\n",
       "9001960288           2  20521137"
      ]
     },
     "execution_count": 8,
     "metadata": {},
     "output_type": "execute_result"
    }
   ],
   "source": [
    "FM_Table.head()"
   ]
  },
  {
   "cell_type": "markdown",
   "id": "75e535dd-32f0-408c-a449-dfa9a23c1b25",
   "metadata": {},
   "source": [
    "# RFM Table"
   ]
  },
  {
   "cell_type": "code",
   "execution_count": 9,
   "id": "4540538c-1474-4383-8f87-3567462f0159",
   "metadata": {},
   "outputs": [],
   "source": [
    "RFM_Table = df_recency.merge(FM_Table,left_on='customer_ID',right_on='customer_ID')"
   ]
  },
  {
   "cell_type": "code",
   "execution_count": 10,
   "id": "bf4106a7-b035-4ff5-9c27-1290a7f7c7cc",
   "metadata": {},
   "outputs": [
    {
     "data": {
      "text/html": [
       "<div>\n",
       "<style scoped>\n",
       "    .dataframe tbody tr th:only-of-type {\n",
       "        vertical-align: middle;\n",
       "    }\n",
       "\n",
       "    .dataframe tbody tr th {\n",
       "        vertical-align: top;\n",
       "    }\n",
       "\n",
       "    .dataframe thead th {\n",
       "        text-align: right;\n",
       "    }\n",
       "</style>\n",
       "<table border=\"1\" class=\"dataframe\">\n",
       "  <thead>\n",
       "    <tr style=\"text-align: right;\">\n",
       "      <th></th>\n",
       "      <th>customer_ID</th>\n",
       "      <th>Recency</th>\n",
       "      <th>Frequency</th>\n",
       "      <th>Monetary</th>\n",
       "    </tr>\n",
       "  </thead>\n",
       "  <tbody>\n",
       "    <tr>\n",
       "      <th>0</th>\n",
       "      <td>9000641603</td>\n",
       "      <td>452</td>\n",
       "      <td>1</td>\n",
       "      <td>17020876</td>\n",
       "    </tr>\n",
       "    <tr>\n",
       "      <th>1</th>\n",
       "      <td>9001201270</td>\n",
       "      <td>414</td>\n",
       "      <td>1</td>\n",
       "      <td>14520670</td>\n",
       "    </tr>\n",
       "    <tr>\n",
       "      <th>2</th>\n",
       "      <td>9001314396</td>\n",
       "      <td>389</td>\n",
       "      <td>1</td>\n",
       "      <td>9419368</td>\n",
       "    </tr>\n",
       "    <tr>\n",
       "      <th>3</th>\n",
       "      <td>9001781541</td>\n",
       "      <td>287</td>\n",
       "      <td>2</td>\n",
       "      <td>27260006</td>\n",
       "    </tr>\n",
       "    <tr>\n",
       "      <th>4</th>\n",
       "      <td>9001960288</td>\n",
       "      <td>139</td>\n",
       "      <td>2</td>\n",
       "      <td>20521137</td>\n",
       "    </tr>\n",
       "  </tbody>\n",
       "</table>\n",
       "</div>"
      ],
      "text/plain": [
       "  customer_ID  Recency  Frequency  Monetary\n",
       "0  9000641603      452          1  17020876\n",
       "1  9001201270      414          1  14520670\n",
       "2  9001314396      389          1   9419368\n",
       "3  9001781541      287          2  27260006\n",
       "4  9001960288      139          2  20521137"
      ]
     },
     "execution_count": 10,
     "metadata": {},
     "output_type": "execute_result"
    }
   ],
   "source": [
    "RFM_Table.head()"
   ]
  },
  {
   "cell_type": "markdown",
   "id": "198d6677-1ca6-413d-b777-640693a50892",
   "metadata": {},
   "source": [
    "# Split into metrics and Scores\n"
   ]
  },
  {
   "cell_type": "code",
   "execution_count": 11,
   "id": "5881321d-aa32-4901-9c05-870559a007d6",
   "metadata": {},
   "outputs": [],
   "source": [
    "RFM_Table = RFM_Table.copy()\n",
    "\n",
    "r_labels = range(4, 0, -1)\n",
    "r_groups = pd.qcut(RFM_Table['Recency'], q=4, labels=r_labels)\n",
    "f_labels = range(1,5)\n",
    "normalized = preprocessing.normalize([RFM_Table['Frequency']])\n",
    "f_groups = pd.cut(normalized[0], bins=4, labels=f_labels)\n",
    "m_labels = range(1,5)\n",
    "m_groups = pd.qcut(RFM_Table['Monetary'], q=4, labels=m_labels)\n",
    "RFM_Table['R'] = r_groups\n",
    "RFM_Table['F'] = f_groups\n",
    "RFM_Table['M'] = m_groups"
   ]
  },
  {
   "cell_type": "code",
   "execution_count": 12,
   "id": "3044cbb7-7ec2-4e66-885d-3ede30e83157",
   "metadata": {},
   "outputs": [
    {
     "data": {
      "text/html": [
       "<div>\n",
       "<style scoped>\n",
       "    .dataframe tbody tr th:only-of-type {\n",
       "        vertical-align: middle;\n",
       "    }\n",
       "\n",
       "    .dataframe tbody tr th {\n",
       "        vertical-align: top;\n",
       "    }\n",
       "\n",
       "    .dataframe thead th {\n",
       "        text-align: right;\n",
       "    }\n",
       "</style>\n",
       "<table border=\"1\" class=\"dataframe\">\n",
       "  <thead>\n",
       "    <tr style=\"text-align: right;\">\n",
       "      <th></th>\n",
       "      <th>customer_ID</th>\n",
       "      <th>Recency</th>\n",
       "      <th>Frequency</th>\n",
       "      <th>Monetary</th>\n",
       "      <th>R</th>\n",
       "      <th>F</th>\n",
       "      <th>M</th>\n",
       "    </tr>\n",
       "  </thead>\n",
       "  <tbody>\n",
       "    <tr>\n",
       "      <th>0</th>\n",
       "      <td>9000641603</td>\n",
       "      <td>452</td>\n",
       "      <td>1</td>\n",
       "      <td>17020876</td>\n",
       "      <td>2</td>\n",
       "      <td>1</td>\n",
       "      <td>2</td>\n",
       "    </tr>\n",
       "    <tr>\n",
       "      <th>1</th>\n",
       "      <td>9001201270</td>\n",
       "      <td>414</td>\n",
       "      <td>1</td>\n",
       "      <td>14520670</td>\n",
       "      <td>2</td>\n",
       "      <td>1</td>\n",
       "      <td>2</td>\n",
       "    </tr>\n",
       "    <tr>\n",
       "      <th>2</th>\n",
       "      <td>9001314396</td>\n",
       "      <td>389</td>\n",
       "      <td>1</td>\n",
       "      <td>9419368</td>\n",
       "      <td>2</td>\n",
       "      <td>1</td>\n",
       "      <td>1</td>\n",
       "    </tr>\n",
       "    <tr>\n",
       "      <th>3</th>\n",
       "      <td>9001781541</td>\n",
       "      <td>287</td>\n",
       "      <td>2</td>\n",
       "      <td>27260006</td>\n",
       "      <td>2</td>\n",
       "      <td>1</td>\n",
       "      <td>3</td>\n",
       "    </tr>\n",
       "    <tr>\n",
       "      <th>4</th>\n",
       "      <td>9001960288</td>\n",
       "      <td>139</td>\n",
       "      <td>2</td>\n",
       "      <td>20521137</td>\n",
       "      <td>3</td>\n",
       "      <td>1</td>\n",
       "      <td>3</td>\n",
       "    </tr>\n",
       "  </tbody>\n",
       "</table>\n",
       "</div>"
      ],
      "text/plain": [
       "  customer_ID  Recency  Frequency  Monetary  R  F  M\n",
       "0  9000641603      452          1  17020876  2  1  2\n",
       "1  9001201270      414          1  14520670  2  1  2\n",
       "2  9001314396      389          1   9419368  2  1  1\n",
       "3  9001781541      287          2  27260006  2  1  3\n",
       "4  9001960288      139          2  20521137  3  1  3"
      ]
     },
     "execution_count": 12,
     "metadata": {},
     "output_type": "execute_result"
    }
   ],
   "source": [
    "RFM_Table.head()"
   ]
  },
  {
   "cell_type": "markdown",
   "id": "60d3c34a-fb8f-49cf-9e04-f4d01b92d1e0",
   "metadata": {},
   "source": [
    "# KMeans"
   ]
  },
  {
   "cell_type": "code",
   "execution_count": 13,
   "id": "a1313f19-ba2e-4933-9b2a-11eba212e547",
   "metadata": {},
   "outputs": [],
   "source": [
    "X = RFM_Table[['R','F','M']]\n",
    "kmean= KMeans(n_clusters=3)\n",
    "kmean.fit(X)\n",
    "RFM_Table['KCluster'] = kmean.labels_"
   ]
  },
  {
   "cell_type": "code",
   "execution_count": 14,
   "id": "5247b579-e5bc-41ae-84c5-b81f95e90024",
   "metadata": {},
   "outputs": [
    {
     "data": {
      "text/html": [
       "<div>\n",
       "<style scoped>\n",
       "    .dataframe tbody tr th:only-of-type {\n",
       "        vertical-align: middle;\n",
       "    }\n",
       "\n",
       "    .dataframe tbody tr th {\n",
       "        vertical-align: top;\n",
       "    }\n",
       "\n",
       "    .dataframe thead th {\n",
       "        text-align: right;\n",
       "    }\n",
       "</style>\n",
       "<table border=\"1\" class=\"dataframe\">\n",
       "  <thead>\n",
       "    <tr style=\"text-align: right;\">\n",
       "      <th></th>\n",
       "      <th>customer_ID</th>\n",
       "      <th>Recency</th>\n",
       "      <th>Frequency</th>\n",
       "      <th>Monetary</th>\n",
       "      <th>R</th>\n",
       "      <th>F</th>\n",
       "      <th>M</th>\n",
       "      <th>KCluster</th>\n",
       "    </tr>\n",
       "  </thead>\n",
       "  <tbody>\n",
       "    <tr>\n",
       "      <th>0</th>\n",
       "      <td>9000641603</td>\n",
       "      <td>452</td>\n",
       "      <td>1</td>\n",
       "      <td>17020876</td>\n",
       "      <td>2</td>\n",
       "      <td>1</td>\n",
       "      <td>2</td>\n",
       "      <td>1</td>\n",
       "    </tr>\n",
       "    <tr>\n",
       "      <th>1</th>\n",
       "      <td>9001201270</td>\n",
       "      <td>414</td>\n",
       "      <td>1</td>\n",
       "      <td>14520670</td>\n",
       "      <td>2</td>\n",
       "      <td>1</td>\n",
       "      <td>2</td>\n",
       "      <td>1</td>\n",
       "    </tr>\n",
       "    <tr>\n",
       "      <th>2</th>\n",
       "      <td>9001314396</td>\n",
       "      <td>389</td>\n",
       "      <td>1</td>\n",
       "      <td>9419368</td>\n",
       "      <td>2</td>\n",
       "      <td>1</td>\n",
       "      <td>1</td>\n",
       "      <td>1</td>\n",
       "    </tr>\n",
       "    <tr>\n",
       "      <th>3</th>\n",
       "      <td>9001781541</td>\n",
       "      <td>287</td>\n",
       "      <td>2</td>\n",
       "      <td>27260006</td>\n",
       "      <td>2</td>\n",
       "      <td>1</td>\n",
       "      <td>3</td>\n",
       "      <td>1</td>\n",
       "    </tr>\n",
       "    <tr>\n",
       "      <th>4</th>\n",
       "      <td>9001960288</td>\n",
       "      <td>139</td>\n",
       "      <td>2</td>\n",
       "      <td>20521137</td>\n",
       "      <td>3</td>\n",
       "      <td>1</td>\n",
       "      <td>3</td>\n",
       "      <td>0</td>\n",
       "    </tr>\n",
       "  </tbody>\n",
       "</table>\n",
       "</div>"
      ],
      "text/plain": [
       "  customer_ID  Recency  Frequency  Monetary  R  F  M  KCluster\n",
       "0  9000641603      452          1  17020876  2  1  2         1\n",
       "1  9001201270      414          1  14520670  2  1  2         1\n",
       "2  9001314396      389          1   9419368  2  1  1         1\n",
       "3  9001781541      287          2  27260006  2  1  3         1\n",
       "4  9001960288      139          2  20521137  3  1  3         0"
      ]
     },
     "execution_count": 14,
     "metadata": {},
     "output_type": "execute_result"
    }
   ],
   "source": [
    "RFM_Table.head()"
   ]
  },
  {
   "cell_type": "code",
   "execution_count": 15,
   "id": "6ef6dcba-596c-45e0-8e55-57899dbb621c",
   "metadata": {},
   "outputs": [
    {
     "data": {
      "text/plain": [
       "<Axes: xlabel='KCluster', ylabel='Recency'>"
      ]
     },
     "execution_count": 15,
     "metadata": {},
     "output_type": "execute_result"
    },
    {
     "data": {
      "image/png": "[encoded data removed]",
      "text/plain": [
       "<Figure size 640x480 with 1 Axes>"
      ]
     },
     "metadata": {},
     "output_type": "display_data"
    }
   ],
   "source": [
    "sns.barplot(data=RFM_Table, x='KCluster', y='Recency')"
   ]
  },
  {
   "cell_type": "code",
   "execution_count": 16,
   "id": "fcadd6ad-3fc1-4c97-a1a1-6953625572b6",
   "metadata": {},
   "outputs": [
    {
     "data": {
      "text/plain": [
       "<Axes: xlabel='KCluster', ylabel='Monetary'>"
      ]
     },
     "execution_count": 16,
     "metadata": {},
     "output_type": "execute_result"
    },
    {
     "data": {
      "image/png": "[encoded data removed]",
      "text/plain": [
       "<Figure size 640x480 with 1 Axes>"
      ]
     },
     "metadata": {},
     "output_type": "display_data"
    }
   ],
   "source": [
    "sns.barplot(data=RFM_Table, x='KCluster', y='Monetary')"
   ]
  },
  {
   "cell_type": "code",
   "execution_count": 17,
   "id": "249488d8-1460-4124-8502-bd8558c26f96",
   "metadata": {},
   "outputs": [
    {
     "data": {
      "text/plain": [
       "<Axes: xlabel='KCluster', ylabel='Frequency'>"
      ]
     },
     "execution_count": 17,
     "metadata": {},
     "output_type": "execute_result"
    },
    {
     "data": {
      "image/png": "[encoded data removed]",
      "text/plain": [
       "<Figure size 640x480 with 1 Axes>"
      ]
     },
     "metadata": {},
     "output_type": "display_data"
    }
   ],
   "source": [
    "sns.barplot(data=RFM_Table, x='KCluster', y='Frequency')"
   ]
  },
  {
   "cell_type": "markdown",
   "id": "863cff9a-d34f-42b6-a6f3-3e015f44baa7",
   "metadata": {},
   "source": [
    "# Find Best K with Inertia"
   ]
  },
  {
   "cell_type": "code",
   "execution_count": 18,
   "id": "f377df97-21ca-4d20-a7b8-fddd775b2a98",
   "metadata": {},
   "outputs": [],
   "source": [
    "wcss = {}\n",
    "for k in range(1, 11):\n",
    "    km = KMeans(n_clusters=k)\n",
    "    km.fit(X)\n",
    "    wcss[k] = km.inertia_"
   ]
  },
  {
   "cell_type": "code",
   "execution_count": 19,
   "id": "54328f3a-46aa-4497-b509-8e98894590f3",
   "metadata": {},
   "outputs": [
    {
     "data": {
      "text/plain": [
       "<Axes: >"
      ]
     },
     "execution_count": 19,
     "metadata": {},
     "output_type": "execute_result"
    },
    {
     "data": {
      "image/png": "[encoded data removed]",
      "text/plain": [
       "<Figure size 640x480 with 1 Axes>"
      ]
     },
     "metadata": {},
     "output_type": "display_data"
    }
   ],
   "source": [
    "sns.pointplot(x=list(wcss.keys()), y=list(wcss.values()))"
   ]
  },
  {
   "cell_type": "markdown",
   "id": "55f59d0b-2f04-4c55-b5b3-a1510a5a9e7e",
   "metadata": {},
   "source": [
    "# Evaluation Model"
   ]
  },
  {
   "cell_type": "code",
   "execution_count": 20,
   "id": "858c2f42-ae39-4713-af94-f8a222cf541f",
   "metadata": {},
   "outputs": [
    {
     "data": {
      "text/plain": [
       "0.4263217660385994"
      ]
     },
     "execution_count": 20,
     "metadata": {},
     "output_type": "execute_result"
    }
   ],
   "source": [
    "silhouette_score(X , kmean.labels_)"
   ]
  },
  {
   "cell_type": "markdown",
   "id": "18a891c8-a47f-4662-bdeb-e840771aa4a3",
   "metadata": {},
   "source": [
    "# Simple DBscan model"
   ]
  },
  {
   "cell_type": "code",
   "execution_count": 21,
   "id": "47424b8c-4498-486f-80d5-38117e5e9076",
   "metadata": {},
   "outputs": [
    {
     "data": {
      "text/plain": [
       "array([-1,  0,  1,  2,  3,  4,  5,  6,  7,  8,  9, 10, 11, 12, 13, 14, 15,\n",
       "       16, 17, 18, 19, 20, 21, 22, 23, 24, 25], dtype=int64)"
      ]
     },
     "execution_count": 21,
     "metadata": {},
     "output_type": "execute_result"
    }
   ],
   "source": [
    "DBS=DBSCAN(eps=0.7, min_samples=3)\n",
    "DBS.fit(X)\n",
    "\n",
    "np.unique(DBS.labels_)"
   ]
  },
  {
   "cell_type": "markdown",
   "id": "149257d5-eda2-4248-854c-4697a3ee4a55",
   "metadata": {},
   "source": [
    "# Evaluation Model"
   ]
  },
  {
   "cell_type": "code",
   "execution_count": 22,
   "id": "c100dc1d-f4c9-4398-accf-a965fe4cbb49",
   "metadata": {},
   "outputs": [
    {
     "data": {
      "text/plain": [
       "0.9933689575231861"
      ]
     },
     "execution_count": 22,
     "metadata": {},
     "output_type": "execute_result"
    }
   ],
   "source": [
    "silhouette_score(X, DBS.labels_)"
   ]
  }
 ],
 "metadata": {
  "kernelspec": {
   "display_name": "Python 3 (ipykernel)",
   "language": "python",
   "name": "python3"
  },
  "language_info": {
   "codemirror_mode": {
    "name": "ipython",
    "version": 3
   },
   "file_extension": ".py",
   "mimetype": "text/x-python",
   "name": "python",
   "nbconvert_exporter": "python",
   "pygments_lexer": "ipython3",
   "version": "3.10.2"
  }
 },
 "nbformat": 4,
 "nbformat_minor": 5
}
